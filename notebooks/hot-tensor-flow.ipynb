{
 "cells": [
  {
   "cell_type": "markdown",
   "metadata": {},
   "source": [
    "# One Hot Encode TensorFlow (Categorical Vocabulary Column)"
   ]
  },
  {
   "cell_type": "code",
   "execution_count": 1,
   "metadata": {},
   "outputs": [],
   "source": [
    "import os\n",
    "import sys\n",
    "import zipfile\n",
    "import pandas as pd\n",
    "import tensorflow as tf\n",
    "from sklearn import preprocessing\n",
    "from sklearn.model_selection import train_test_split\n",
    "\n",
    "sys.path.insert(0,os.path.join(os.getcwd(), os.pardir,  'src', 'data'))\n",
    "import stack_data\n",
    "\n",
    "SHOW_DISPLAY = True"
   ]
  },
  {
   "cell_type": "code",
   "execution_count": 2,
   "metadata": {},
   "outputs": [
    {
     "name": "stdout",
     "output_type": "stream",
     "text": [
      "(51392, 8)\n"
     ]
    },
    {
     "data": {
      "text/html": [
       "<div>\n",
       "<style scoped>\n",
       "    .dataframe tbody tr th:only-of-type {\n",
       "        vertical-align: middle;\n",
       "    }\n",
       "\n",
       "    .dataframe tbody tr th {\n",
       "        vertical-align: top;\n",
       "    }\n",
       "\n",
       "    .dataframe thead th {\n",
       "        text-align: right;\n",
       "    }\n",
       "</style>\n",
       "<table border=\"1\" class=\"dataframe\">\n",
       "  <thead>\n",
       "    <tr style=\"text-align: right;\">\n",
       "      <th></th>\n",
       "      <th>Professional</th>\n",
       "      <th>ProgramHobby</th>\n",
       "      <th>Country</th>\n",
       "      <th>University</th>\n",
       "      <th>FormalEducation</th>\n",
       "      <th>MajorUndergrad</th>\n",
       "      <th>YearsProgram</th>\n",
       "      <th>DeveloperType</th>\n",
       "    </tr>\n",
       "  </thead>\n",
       "  <tbody>\n",
       "    <tr>\n",
       "      <th>0</th>\n",
       "      <td>Student</td>\n",
       "      <td>Yes, both</td>\n",
       "      <td>United States</td>\n",
       "      <td>No</td>\n",
       "      <td>Secondary school</td>\n",
       "      <td>NaN</td>\n",
       "      <td>2 to 3 years</td>\n",
       "      <td>NaN</td>\n",
       "    </tr>\n",
       "    <tr>\n",
       "      <th>1</th>\n",
       "      <td>Student</td>\n",
       "      <td>Yes, both</td>\n",
       "      <td>United Kingdom</td>\n",
       "      <td>Yes, full-time</td>\n",
       "      <td>Some college/university study without earning ...</td>\n",
       "      <td>Computer science or software engineering</td>\n",
       "      <td>9 to 10 years</td>\n",
       "      <td>NaN</td>\n",
       "    </tr>\n",
       "    <tr>\n",
       "      <th>2</th>\n",
       "      <td>Professional developer</td>\n",
       "      <td>Yes, both</td>\n",
       "      <td>United Kingdom</td>\n",
       "      <td>No</td>\n",
       "      <td>Bachelor's degree</td>\n",
       "      <td>Computer science or software engineering</td>\n",
       "      <td>20 or more years</td>\n",
       "      <td>Other</td>\n",
       "    </tr>\n",
       "    <tr>\n",
       "      <th>3</th>\n",
       "      <td>Professional non-developer who sometimes write...</td>\n",
       "      <td>Yes, both</td>\n",
       "      <td>United States</td>\n",
       "      <td>No</td>\n",
       "      <td>Doctoral degree</td>\n",
       "      <td>A non-computer-focused engineering discipline</td>\n",
       "      <td>14 to 15 years</td>\n",
       "      <td>NaN</td>\n",
       "    </tr>\n",
       "    <tr>\n",
       "      <th>4</th>\n",
       "      <td>Professional developer</td>\n",
       "      <td>Yes, I program as a hobby</td>\n",
       "      <td>Switzerland</td>\n",
       "      <td>No</td>\n",
       "      <td>Master's degree</td>\n",
       "      <td>Computer science or software engineering</td>\n",
       "      <td>20 or more years</td>\n",
       "      <td>Mobile developer; Graphics programming; Deskto...</td>\n",
       "    </tr>\n",
       "  </tbody>\n",
       "</table>\n",
       "</div>"
      ],
      "text/plain": [
       "                                        Professional  \\\n",
       "0                                            Student   \n",
       "1                                            Student   \n",
       "2                             Professional developer   \n",
       "3  Professional non-developer who sometimes write...   \n",
       "4                             Professional developer   \n",
       "\n",
       "                ProgramHobby         Country      University  \\\n",
       "0                  Yes, both   United States              No   \n",
       "1                  Yes, both  United Kingdom  Yes, full-time   \n",
       "2                  Yes, both  United Kingdom              No   \n",
       "3                  Yes, both   United States              No   \n",
       "4  Yes, I program as a hobby     Switzerland              No   \n",
       "\n",
       "                                     FormalEducation  \\\n",
       "0                                   Secondary school   \n",
       "1  Some college/university study without earning ...   \n",
       "2                                  Bachelor's degree   \n",
       "3                                    Doctoral degree   \n",
       "4                                    Master's degree   \n",
       "\n",
       "                                  MajorUndergrad      YearsProgram  \\\n",
       "0                                            NaN      2 to 3 years   \n",
       "1       Computer science or software engineering     9 to 10 years   \n",
       "2       Computer science or software engineering  20 or more years   \n",
       "3  A non-computer-focused engineering discipline    14 to 15 years   \n",
       "4       Computer science or software engineering  20 or more years   \n",
       "\n",
       "                                       DeveloperType  \n",
       "0                                                NaN  \n",
       "1                                                NaN  \n",
       "2                                              Other  \n",
       "3                                                NaN  \n",
       "4  Mobile developer; Graphics programming; Deskto...  "
      ]
     },
     "metadata": {},
     "output_type": "display_data"
    }
   ],
   "source": [
    " # Fetch the data\n",
    "df = stack_data.get_data()\n",
    "\n",
    "print(df.shape)\n",
    "if SHOW_DISPLAY:\n",
    "    display(df.head())"
   ]
  },
  {
   "cell_type": "code",
   "execution_count": 3,
   "metadata": {},
   "outputs": [
    {
     "name": "stdout",
     "output_type": "stream",
     "text": [
      "<class 'pandas.core.frame.DataFrame'>\n",
      "RangeIndex: 51392 entries, 0 to 51391\n",
      "Data columns (total 8 columns):\n",
      "Professional       51392 non-null object\n",
      "ProgramHobby       51392 non-null object\n",
      "Country            51392 non-null object\n",
      "University         51392 non-null object\n",
      "FormalEducation    51392 non-null object\n",
      "MajorUndergrad     42841 non-null object\n",
      "YearsProgram       51145 non-null object\n",
      "DeveloperType      36125 non-null object\n",
      "dtypes: object(8)\n",
      "memory usage: 3.1+ MB\n"
     ]
    }
   ],
   "source": [
    "df.info()"
   ]
  },
  {
   "cell_type": "code",
   "execution_count": 4,
   "metadata": {},
   "outputs": [
    {
     "name": "stdout",
     "output_type": "stream",
     "text": [
      "<class 'pandas.core.frame.DataFrame'>\n",
      "Int64Index: 36125 entries, 2 to 51390\n",
      "Data columns (total 8 columns):\n",
      "Professional       36125 non-null object\n",
      "ProgramHobby       36125 non-null object\n",
      "Country            36125 non-null object\n",
      "University         36125 non-null object\n",
      "FormalEducation    36125 non-null object\n",
      "MajorUndergrad     32954 non-null object\n",
      "YearsProgram       35977 non-null object\n",
      "DeveloperType      36125 non-null object\n",
      "dtypes: object(8)\n",
      "memory usage: 2.5+ MB\n"
     ]
    }
   ],
   "source": [
    "# drop empty labels\n",
    "df = df.dropna(subset=[stack_data.LABEL_NAME], how='all')\n",
    "df.info()"
   ]
  },
  {
   "cell_type": "code",
   "execution_count": 5,
   "metadata": {},
   "outputs": [
    {
     "name": "stdout",
     "output_type": "stream",
     "text": [
      "<class 'pandas.core.frame.DataFrame'>\n",
      "RangeIndex: 16747 entries, 0 to 16746\n",
      "Data columns (total 8 columns):\n",
      "Professional       16747 non-null object\n",
      "ProgramHobby       16747 non-null object\n",
      "Country            16747 non-null object\n",
      "University         16747 non-null object\n",
      "FormalEducation    16747 non-null object\n",
      "MajorUndergrad     15503 non-null object\n",
      "YearsProgram       16648 non-null object\n",
      "DeveloperType      16747 non-null object\n",
      "dtypes: object(8)\n",
      "memory usage: 1.0+ MB\n"
     ]
    }
   ],
   "source": [
    "# Iterate all rows and drop ones with MultiLabel, effectively\n",
    "# turning this into a MultiClass problem.\n",
    "# TODO: Build MultiLabel solution\n",
    "expanded_data = []\n",
    "for (idx, row) in df.iterrows():\n",
    "    # Check for delimiter\n",
    "    split = [x.strip() for x in row.loc[stack_data.LABEL_NAME].split(';')]\n",
    "    if len(split) is 1:\n",
    "        expanded_data.append(row)\n",
    "\n",
    "df = pd.DataFrame(expanded_data).reset_index(drop=True)\n",
    "df.info()"
   ]
  },
  {
   "cell_type": "code",
   "execution_count": 6,
   "metadata": {},
   "outputs": [
    {
     "name": "stdout",
     "output_type": "stream",
     "text": [
      "<class 'pandas.core.frame.DataFrame'>\n",
      "Int64Index: 15425 entries, 0 to 16746\n",
      "Data columns (total 8 columns):\n",
      "Professional       15425 non-null object\n",
      "ProgramHobby       15425 non-null object\n",
      "Country            15425 non-null object\n",
      "University         15425 non-null object\n",
      "FormalEducation    15425 non-null object\n",
      "MajorUndergrad     15425 non-null object\n",
      "YearsProgram       15425 non-null object\n",
      "DeveloperType      15425 non-null object\n",
      "dtypes: object(8)\n",
      "memory usage: 1.1+ MB\n"
     ]
    }
   ],
   "source": [
    "# drop empty features\n",
    "df = df.dropna(subset=['MajorUndergrad'], how='all')\n",
    "df = df.dropna(subset=['YearsProgram'], how='all')\n",
    "df.info()"
   ]
  },
  {
   "cell_type": "code",
   "execution_count": 7,
   "metadata": {},
   "outputs": [
    {
     "data": {
      "text/plain": [
       "array(['Professional developer'], dtype=object)"
      ]
     },
     "execution_count": 7,
     "metadata": {},
     "output_type": "execute_result"
    }
   ],
   "source": [
    "# TODO: Stripping out nan value from DeveloperType resulted in 1 unique value \n",
    "# Consider back-filling nan against student\n",
    "df.Professional.unique()"
   ]
  },
  {
   "cell_type": "code",
   "execution_count": 13,
   "metadata": {},
   "outputs": [
    {
     "data": {
      "text/html": [
       "<div>\n",
       "<style scoped>\n",
       "    .dataframe tbody tr th:only-of-type {\n",
       "        vertical-align: middle;\n",
       "    }\n",
       "\n",
       "    .dataframe tbody tr th {\n",
       "        vertical-align: top;\n",
       "    }\n",
       "\n",
       "    .dataframe thead th {\n",
       "        text-align: right;\n",
       "    }\n",
       "</style>\n",
       "<table border=\"1\" class=\"dataframe\">\n",
       "  <thead>\n",
       "    <tr style=\"text-align: right;\">\n",
       "      <th></th>\n",
       "      <th>Professional</th>\n",
       "      <th>ProgramHobby</th>\n",
       "      <th>Country</th>\n",
       "      <th>University</th>\n",
       "      <th>FormalEducation</th>\n",
       "      <th>MajorUndergrad</th>\n",
       "      <th>YearsProgram</th>\n",
       "      <th>DeveloperType</th>\n",
       "    </tr>\n",
       "  </thead>\n",
       "  <tbody>\n",
       "    <tr>\n",
       "      <th>count</th>\n",
       "      <td>15425</td>\n",
       "      <td>15425</td>\n",
       "      <td>15425</td>\n",
       "      <td>15425</td>\n",
       "      <td>15425</td>\n",
       "      <td>15425</td>\n",
       "      <td>15425</td>\n",
       "      <td>15425</td>\n",
       "    </tr>\n",
       "    <tr>\n",
       "      <th>unique</th>\n",
       "      <td>1</td>\n",
       "      <td>4</td>\n",
       "      <td>148</td>\n",
       "      <td>4</td>\n",
       "      <td>7</td>\n",
       "      <td>16</td>\n",
       "      <td>21</td>\n",
       "      <td>14</td>\n",
       "    </tr>\n",
       "    <tr>\n",
       "      <th>top</th>\n",
       "      <td>Professional developer</td>\n",
       "      <td>Yes, I program as a hobby</td>\n",
       "      <td>United States</td>\n",
       "      <td>No</td>\n",
       "      <td>Bachelor's degree</td>\n",
       "      <td>Computer science or software engineering</td>\n",
       "      <td>20 or more years</td>\n",
       "      <td>Web developer</td>\n",
       "    </tr>\n",
       "    <tr>\n",
       "      <th>freq</th>\n",
       "      <td>15425</td>\n",
       "      <td>7115</td>\n",
       "      <td>3772</td>\n",
       "      <td>13170</td>\n",
       "      <td>8537</td>\n",
       "      <td>8206</td>\n",
       "      <td>2760</td>\n",
       "      <td>9787</td>\n",
       "    </tr>\n",
       "  </tbody>\n",
       "</table>\n",
       "</div>"
      ],
      "text/plain": [
       "                  Professional               ProgramHobby        Country  \\\n",
       "count                    15425                      15425          15425   \n",
       "unique                       1                          4            148   \n",
       "top     Professional developer  Yes, I program as a hobby  United States   \n",
       "freq                     15425                       7115           3772   \n",
       "\n",
       "       University    FormalEducation  \\\n",
       "count       15425              15425   \n",
       "unique          4                  7   \n",
       "top            No  Bachelor's degree   \n",
       "freq        13170               8537   \n",
       "\n",
       "                                  MajorUndergrad      YearsProgram  \\\n",
       "count                                      15425             15425   \n",
       "unique                                        16                21   \n",
       "top     Computer science or software engineering  20 or more years   \n",
       "freq                                        8206              2760   \n",
       "\n",
       "        DeveloperType  \n",
       "count           15425  \n",
       "unique             14  \n",
       "top     Web developer  \n",
       "freq             9787  "
      ]
     },
     "execution_count": 13,
     "metadata": {},
     "output_type": "execute_result"
    }
   ],
   "source": [
    "df.describe(include='all')"
   ]
  },
  {
   "cell_type": "code",
   "execution_count": null,
   "metadata": {},
   "outputs": [],
   "source": []
  }
 ],
 "metadata": {
  "kernelspec": {
   "display_name": "Python 3",
   "language": "python",
   "name": "python3"
  },
  "language_info": {
   "codemirror_mode": {
    "name": "ipython",
    "version": 3
   },
   "file_extension": ".py",
   "mimetype": "text/x-python",
   "name": "python",
   "nbconvert_exporter": "python",
   "pygments_lexer": "ipython3",
   "version": "3.6.4"
  }
 },
 "nbformat": 4,
 "nbformat_minor": 2
}
