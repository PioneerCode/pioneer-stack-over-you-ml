{
 "cells": [
  {
   "cell_type": "markdown",
   "metadata": {},
   "source": [
    "# Clean 2017 Stack Overflow devloper results for multi-class classification\n"
   ]
  },
  {
   "cell_type": "code",
   "execution_count": 1,
   "metadata": {},
   "outputs": [],
   "source": [
    "import os\n",
    "import sys\n",
    "import zipfile\n",
    "import pandas as pd\n",
    "import tensorflow as tf\n",
    "from sklearn import preprocessing\n",
    "from sklearn.model_selection import train_test_split\n",
    "\n",
    "sys.path.insert(0,os.path.join(os.getcwd(), os.pardir,  'src', 'data'))\n",
    "import stack_data\n",
    "\n",
    "SHOW_DISPLAY = False"
   ]
  },
  {
   "cell_type": "code",
   "execution_count": 2,
   "metadata": {},
   "outputs": [
    {
     "name": "stdout",
     "output_type": "stream",
     "text": [
      "(51392, 8)\n"
     ]
    }
   ],
   "source": [
    " # Fetch the data\n",
    "raw_data = stack_data.get_data()\n",
    "\n",
    "print(raw_data.shape)\n",
    "if SHOW_DISPLAY:\n",
    "    display(raw_data.head())"
   ]
  },
  {
   "cell_type": "code",
   "execution_count": 3,
   "metadata": {},
   "outputs": [
    {
     "name": "stdout",
     "output_type": "stream",
     "text": [
      "(36125, 8)\n"
     ]
    }
   ],
   "source": [
    "# Remove all rows with no label values\n",
    "raw_data = raw_data.dropna(subset=[stack_data.LABEL_NAME], how='all')\n",
    "\n",
    "print(raw_data.shape)\n",
    "if SHOW_DISPLAY:\n",
    "    display(raw_data.head())"
   ]
  },
  {
   "cell_type": "code",
   "execution_count": 4,
   "metadata": {},
   "outputs": [
    {
     "name": "stdout",
     "output_type": "stream",
     "text": [
      "(16747, 8)\n"
     ]
    }
   ],
   "source": [
    "# Iterate all rows and drop ones with MultiLabel, effectively\n",
    "# turning this into a MultiClass problem.\n",
    "expanded_data = []\n",
    "for (idx, row) in raw_data.iterrows():\n",
    "    # Check for delimiter\n",
    "    split = [x.strip() for x in row.loc[stack_data.LABEL_NAME].split(';')]\n",
    "    if len(split) is 1:\n",
    "        expanded_data.append(row)\n",
    "        \n",
    "raw_data = pd.DataFrame(expanded_data).reset_index(drop=True)\n",
    "\n",
    "print(raw_data.shape)\n",
    "if SHOW_DISPLAY:\n",
    "    display(raw_data.head())"
   ]
  },
  {
   "cell_type": "code",
   "execution_count": 5,
   "metadata": {},
   "outputs": [
    {
     "name": "stdout",
     "output_type": "stream",
     "text": [
      "(16747, 8)\n"
     ]
    }
   ],
   "source": [
    "# Encoding categorical data\n",
    "def label_encode(df, columns):\n",
    "    for col in columns:\n",
    "        le = preprocessing.LabelEncoder()\n",
    "        col_values_unique = list(df[col].unique())\n",
    "        le_fitted = le.fit(col_values_unique)\n",
    " \n",
    "        col_values = list(df[col].values)\n",
    "        le.classes_\n",
    "        col_values_transformed = le.transform(col_values)\n",
    "        df[col] = col_values_transformed\n",
    " \n",
    "to_be_encoded_cols = raw_data.columns.values\n",
    "label_encode(raw_data, to_be_encoded_cols)\n",
    "\n",
    "print(raw_data.shape)\n",
    "if SHOW_DISPLAY:\n",
    "    display(raw_data.head())"
   ]
  },
  {
   "cell_type": "code",
   "execution_count": 6,
   "metadata": {},
   "outputs": [],
   "source": [
    "# Split to train and test data.\n",
    "# TODO: Consider cross validation\n",
    "# https://towardsdatascience.com/train-test-split-and-cross-validation-in-python-80b61beca4b6\n",
    "train, test = train_test_split(raw_data, train_size = 0.8, test_size = 0.2)\n",
    "if SHOW_DISPLAY:\n",
    "    display(train.head())\n",
    "    display(test.head())"
   ]
  },
  {
   "cell_type": "code",
   "execution_count": 7,
   "metadata": {},
   "outputs": [],
   "source": [
    "# 1. Assign the DataFrame's labels (the right-most column) to train_label.\n",
    "# 2. Delete (pop) the labels from the DataFrame.\n",
    "# 3. Assign the remainder of the DataFrame to train_features\n",
    "X_train, Y_train = train, train.pop(stack_data.LABEL_NAME)\n",
    "X_test, Y_test = test, test.pop(stack_data.LABEL_NAME)"
   ]
  },
  {
   "cell_type": "code",
   "execution_count": 8,
   "metadata": {},
   "outputs": [],
   "source": [
    "# Create feature columns for all features.\n",
    "my_feature_columns = []\n",
    "for key in X_train.keys():\n",
    "    my_feature_columns.append(tf.feature_column.numeric_column(key=key))"
   ]
  },
  {
   "cell_type": "code",
   "execution_count": null,
   "metadata": {},
   "outputs": [],
   "source": []
  }
 ],
 "metadata": {
  "kernelspec": {
   "display_name": "Python 3",
   "language": "python",
   "name": "python3"
  },
  "language_info": {
   "codemirror_mode": {
    "name": "ipython",
    "version": 3
   },
   "file_extension": ".py",
   "mimetype": "text/x-python",
   "name": "python",
   "nbconvert_exporter": "python",
   "pygments_lexer": "ipython3",
   "version": "3.6.4"
  }
 },
 "nbformat": 4,
 "nbformat_minor": 2
}
