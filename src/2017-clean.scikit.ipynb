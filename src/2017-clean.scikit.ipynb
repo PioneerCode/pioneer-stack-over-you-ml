{
 "cells": [
  {
   "cell_type": "markdown",
   "metadata": {},
   "source": [
    "# 2017 Stack Overflow Developer Survey MultiClass Classification (SciKit Learn)"
   ]
  },
  {
   "cell_type": "code",
   "execution_count": 1,
   "metadata": {},
   "outputs": [],
   "source": [
    "import pandas as pd\n",
    "import numpy as np\n",
    "import time\n",
    "import stack_data\n",
    "from sklearn.model_selection import train_test_split\n",
    "\n",
    "SHOW_DISPLAY = False"
   ]
  },
  {
   "cell_type": "code",
   "execution_count": 2,
   "metadata": {},
   "outputs": [
    {
     "name": "stdout",
     "output_type": "stream",
     "text": [
      "(51392, 8)\n"
     ]
    }
   ],
   "source": [
    " # Fetch the data\n",
    "raw_data = stack_data.get_data()\n",
    "\n",
    "print(raw_data.shape)\n",
    "if SHOW_DISPLAY:\n",
    "    display(raw_data.head())"
   ]
  },
  {
   "cell_type": "code",
   "execution_count": 3,
   "metadata": {},
   "outputs": [
    {
     "name": "stdout",
     "output_type": "stream",
     "text": [
      "(36125, 8)\n"
     ]
    }
   ],
   "source": [
    "# Remove all rows with no label values\n",
    "raw_data = raw_data.dropna(subset=[stack_data.LABEL_NAME], how='all')\n",
    "\n",
    "print(raw_data.shape)\n",
    "if SHOW_DISPLAY:\n",
    "    display(raw_data.head())"
   ]
  },
  {
   "cell_type": "code",
   "execution_count": 4,
   "metadata": {},
   "outputs": [
    {
     "name": "stdout",
     "output_type": "stream",
     "text": [
      "(16747, 8)\n"
     ]
    }
   ],
   "source": [
    "# Iterate all rows and drop ones with MultiLabel, effectively\n",
    "# turning this into a MultiClass problem.\n",
    "expanded_data = []\n",
    "for (idx, row) in raw_data.iterrows():\n",
    "    # Check for delimiter\n",
    "    split = [x.strip() for x in row.loc[stack_data.LABEL_NAME].split(';')]\n",
    "    if len(split) is 1:\n",
    "        expanded_data.append(row)\n",
    "        \n",
    "raw_data = pd.DataFrame(expanded_data).reset_index(drop=True)\n",
    "\n",
    "print(raw_data.shape)\n",
    "if SHOW_DISPLAY:\n",
    "    display(raw_data.head())"
   ]
  },
  {
   "cell_type": "code",
   "execution_count": 5,
   "metadata": {},
   "outputs": [
    {
     "name": "stdout",
     "output_type": "stream",
     "text": [
      "(16747, 8)\n"
     ]
    }
   ],
   "source": [
    "# Encoding categorical data\n",
    "# TODO: One-Hot Encode vector columns\n",
    "from sklearn import preprocessing\n",
    "def label_encode(df, columns):\n",
    "    for col in columns:\n",
    "        le = preprocessing.LabelEncoder()\n",
    "        col_values_unique = list(df[col].unique())\n",
    "        le_fitted = le.fit(col_values_unique)\n",
    " \n",
    "        col_values = list(df[col].values)\n",
    "        le.classes_\n",
    "        col_values_transformed = le.transform(col_values)\n",
    "        df[col] = col_values_transformed\n",
    " \n",
    "to_be_encoded_cols = raw_data.columns.values\n",
    "label_encode(raw_data, to_be_encoded_cols)\n",
    "\n",
    "print(raw_data.shape)\n",
    "if SHOW_DISPLAY:\n",
    "    display(raw_data.head())"
   ]
  },
  {
   "cell_type": "code",
   "execution_count": 6,
   "metadata": {},
   "outputs": [],
   "source": [
    "# Split to train and test data.\n",
    "# TODO: Consider cross validation\n",
    "# https://towardsdatascience.com/train-test-split-and-cross-validation-in-python-80b61beca4b6\n",
    "train, test = train_test_split(raw_data, train_size = 0.8, test_size = 0.2)\n",
    "# train.to_csv(CLEAN_PATH + '/train_survey_results_public.csv', index=False)\n",
    "# test.to_csv(CLEAN_PATH + '/test_survey_results_public.csv', index=False)\n",
    "if SHOW_DISPLAY:\n",
    "    display(train.head())\n",
    "    display(test.head())"
   ]
  },
  {
   "cell_type": "code",
   "execution_count": 7,
   "metadata": {},
   "outputs": [
    {
     "ename": "SyntaxError",
     "evalue": "invalid syntax (<ipython-input-7-ccf72fbe7804>, line 11)",
     "output_type": "error",
     "traceback": [
      "\u001b[1;36m  File \u001b[1;32m\"<ipython-input-7-ccf72fbe7804>\"\u001b[1;36m, line \u001b[1;32m11\u001b[0m\n\u001b[1;33m    \"Nearest Neighbors\": neighbors.KNeighborsClassifier(),\u001b[0m\n\u001b[1;37m                      ^\u001b[0m\n\u001b[1;31mSyntaxError\u001b[0m\u001b[1;31m:\u001b[0m invalid syntax\n"
     ]
    }
   ],
   "source": [
    "# 1. Assign the DataFrame's labels (the right-most column) to train_label.\n",
    "# 2. Delete (pop) the labels from the DataFrame.\n",
    "# 3. Assign the remainder of the DataFrame to train_features\n",
    "X_train, Y_train = train, train.pop(stack_data.LABEL_NAME)\n",
    "X_test, Y_test = test, test.pop(stack_data.LABEL_NAME)\n",
    "\n",
    "from sklearn import linear_model, neighbors, svm, ensemble, tree, neural_network, naive_bayes\n",
    "\n",
    "dict_classifiers = {\n",
    "    \"Logistic Regression\": linear_model.LogisticRegression()\n",
    "    \"Nearest Neighbors\": neighbors.KNeighborsClassifier(),\n",
    "    \"Linear SVM\": svm.SVC(),\n",
    "    \"Gradient Boosting Classifier\": ensemble.GradientBoostingClassifier(),\n",
    "    \"Decision Tree\": tree.DecisionTreeClassifier(),\n",
    "    \"Random Forest\": ensemble.RandomForestClassifier(n_estimators = 18),\n",
    "    \"Neural Net\": neural_network.MLPClassifier(alpha = 1),\n",
    "    \"Naive Bayes\": naive_bayes.GaussianNB()\n",
    "}"
   ]
  },
  {
   "cell_type": "code",
   "execution_count": null,
   "metadata": {},
   "outputs": [],
   "source": [
    "no_classifiers = len(dict_classifiers.keys())\n",
    "\n",
    "def batch_classify(X_train, Y_train, X_test, Y_test, verbose = True):\n",
    "    df_results = pd.DataFrame(data=np.zeros(shape=(no_classifiers,4)), columns = ['classifier', 'train_score', 'test_score', 'training_time'])\n",
    "    count = 0\n",
    "    for key, classifier in dict_classifiers.items():\n",
    "        t_start = time.clock()\n",
    "        classifier.fit(X_train, Y_train)\n",
    "        t_end = time.clock()\n",
    "        t_diff = t_end - t_start\n",
    "        train_score = classifier.score(X_train, Y_train)\n",
    "        test_score = classifier.score(X_test, Y_test)\n",
    "        df_results.loc[count,'classifier'] = key\n",
    "        df_results.loc[count,'train_score'] = train_score\n",
    "        df_results.loc[count,'test_score'] = test_score\n",
    "        df_results.loc[count,'training_time'] = t_diff\n",
    "        if verbose:\n",
    "            print(\"trained {c} in {f:.2f} s\".format(c=key, f=t_diff))\n",
    "        count+=1\n",
    "    return df_results"
   ]
  },
  {
   "cell_type": "code",
   "execution_count": null,
   "metadata": {},
   "outputs": [],
   "source": [
    "df_results = batch_classify(X_train, Y_train, X_test, Y_test)\n",
    "display(df_results.sort_values(by='test_score', ascending=False))"
   ]
  }
 ],
 "metadata": {
  "kernelspec": {
   "display_name": "Python 3",
   "language": "python",
   "name": "python3"
  },
  "language_info": {
   "codemirror_mode": {
    "name": "ipython",
    "version": 3
   },
   "file_extension": ".py",
   "mimetype": "text/x-python",
   "name": "python",
   "nbconvert_exporter": "python",
   "pygments_lexer": "ipython3",
   "version": "3.6.4"
  }
 },
 "nbformat": 4,
 "nbformat_minor": 2
}
